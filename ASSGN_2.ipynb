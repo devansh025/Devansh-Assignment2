{
 "cells": [
  {
   "cell_type": "code",
   "execution_count": 1,
   "id": "d7c43e40",
   "metadata": {},
   "outputs": [
    {
     "name": "stdout",
     "output_type": "stream",
     "text": [
      "35\n"
     ]
    }
   ],
   "source": [
    "# 1 (a)\n",
    "\n",
    "name = \"Python is a case sensitive language\"\n",
    "print(len(name))"
   ]
  },
  {
   "cell_type": "code",
   "execution_count": 2,
   "id": "fac4814e",
   "metadata": {},
   "outputs": [
    {
     "name": "stdout",
     "output_type": "stream",
     "text": [
      "egaugnal evitisnes esac a si nohtyP\n"
     ]
    }
   ],
   "source": [
    "# 1 (b)\n",
    "\n",
    "str2 = name[::-1]\n",
    "print(str2)"
   ]
  },
  {
   "cell_type": "code",
   "execution_count": 3,
   "id": "e1e697ea",
   "metadata": {},
   "outputs": [
    {
     "name": "stdout",
     "output_type": "stream",
     "text": [
      "a case sensitive language\n"
     ]
    }
   ],
   "source": [
    "# 1 (c)\n",
    "\n",
    "s1 = slice(10,35)\n",
    "print(name[s1])"
   ]
  },
  {
   "cell_type": "code",
   "execution_count": 4,
   "id": "97cee881",
   "metadata": {},
   "outputs": [
    {
     "name": "stdout",
     "output_type": "stream",
     "text": [
      "Python is object oriented language\n"
     ]
    }
   ],
   "source": [
    "# 1 (d)\n",
    "\n",
    "name2 = name.replace(\"a case sensitive\",\"object oriented\")\n",
    "print(name2)"
   ]
  },
  {
   "cell_type": "code",
   "execution_count": 5,
   "id": "f35c8e6a",
   "metadata": {},
   "outputs": [
    {
     "name": "stdout",
     "output_type": "stream",
     "text": [
      "10\n"
     ]
    }
   ],
   "source": [
    "# 1 (e)\n",
    "\n",
    "print(name.find('a'))"
   ]
  },
  {
   "cell_type": "code",
   "execution_count": 6,
   "id": "dae79c64",
   "metadata": {},
   "outputs": [
    {
     "name": "stdout",
     "output_type": "stream",
     "text": [
      "Pythonisacasesensitivelanguage\n"
     ]
    }
   ],
   "source": [
    "# 1 (f)\n",
    "\n",
    "str3 = name.replace(\" \",\"\")\n",
    "print(str3)"
   ]
  },
  {
   "cell_type": "code",
   "execution_count": 7,
   "id": "1023d18f",
   "metadata": {},
   "outputs": [
    {
     "name": "stdout",
     "output_type": "stream",
     "text": [
      "Hey,Devansh Aggarwal Here! \n",
      "My SID is 22105065 \n",
      "I am from ECE department and my CGPA is 9.9\n"
     ]
    }
   ],
   "source": [
    "# 2\n",
    "\n",
    "name ='Devansh Aggarwal'\n",
    "sid = '22105065'\n",
    "depatment_name = 'ECE'\n",
    "cgpa = '9.9'\n",
    "# printing a para using different variables.\n",
    "print(f\"Hey,{name} Here! \\nMy SID is {sid} \\nI am from {depatment_name} department and my CGPA is {cgpa}\")"
   ]
  },
  {
   "cell_type": "code",
   "execution_count": 8,
   "id": "74dc3949",
   "metadata": {},
   "outputs": [
    {
     "name": "stdout",
     "output_type": "stream",
     "text": [
      "a & b =  8\n",
      "a|b =  58\n",
      "a^b =  50\n",
      "224\n",
      "40\n",
      "14\n",
      "0\n"
     ]
    }
   ],
   "source": [
    "# 3\n",
    "\n",
    "a =  56\n",
    "b = 10 \n",
    "# Using Bitwise Operators\n",
    "print(\"a & b = \",a&b)\n",
    "print(\"a|b = \",a|b)\n",
    "print(\"a^b = \",a^b)\n",
    "print(a<<2)\n",
    "print(b<<2)\n",
    "print(a>>2)\n",
    "print(b>>4)"
   ]
  },
  {
   "cell_type": "code",
   "execution_count": 9,
   "id": "e8d723ad",
   "metadata": {},
   "outputs": [
    {
     "name": "stdout",
     "output_type": "stream",
     "text": [
      "enter your 1st number :15\n",
      "enter your 2nd number :98\n",
      "enter your 3rd number :57\n",
      "98 is greatest\n"
     ]
    }
   ],
   "source": [
    "# 4\n",
    "\n",
    "num1 = int(input(\"enter your 1st number :\"))\n",
    "num2 = int(input(\"enter your 2nd number :\"))\n",
    "num3 = int(input(\"enter your 3rd number :\"))\n",
    "if num1>num2 and num1>num3:\n",
    "    print(f\"{num1} is greatest\")\n",
    "elif num2>num3 and num2>num1:\n",
    "    print(f\"{num2} is greatest\")\n",
    "elif num3>num1 and num3>num2:\n",
    "    print(f\"{num3} is greatest\")\n",
    "elif num2== num3 and num3==num1:\n",
    "    print(\"all numbers are equal\")\n",
    "elif num1 ==num2:\n",
    "    print(f\"number 1 and 2 both are equal\")\n",
    "elif num2 == num3:\n",
    "    print(\"number 2 and 3 both are equal\")\n",
    "elif num1 ==  num3:\n",
    "    print(\"number 1 and 3 both are equal\")\n",
    "else:\n",
    "    print(f\"{num3} is greatest\")"
   ]
  },
  {
   "cell_type": "code",
   "execution_count": 10,
   "id": "2e0cf3d6",
   "metadata": {},
   "outputs": [
    {
     "name": "stdout",
     "output_type": "stream",
     "text": [
      "enter here : name\n",
      "yes,'name' word is there\n"
     ]
    }
   ],
   "source": [
    "# 5\n",
    "\n",
    "line = input(\"enter here : \")\n",
    "if line.find('name') != -1:\n",
    "    print(\"yes,'name' word is there\")\n",
    "else:\n",
    "    print(\"no, 'name' word is there\")"
   ]
  },
  {
   "cell_type": "code",
   "execution_count": 11,
   "id": "6092bf93",
   "metadata": {},
   "outputs": [
    {
     "name": "stdout",
     "output_type": "stream",
     "text": [
      "enter your 1st line :7\n",
      "enter your 2nd line :8\n",
      "enter your 3rd line :8\n",
      "yes, formation of triangle is possible\n"
     ]
    }
   ],
   "source": [
    "# 6\n",
    "\n",
    "line1 = int(input(\"enter your 1st line :\"))\n",
    "line2 = int(input(\"enter your 2nd line :\"))\n",
    "line3 = int(input(\"enter your 3rd line :\"))\n",
    "# Checking that the triangle is possible or not.\n",
    "if line1 == (line2 +line3):\n",
    "    print(\"no, formation of triangle is not possible\")\n",
    "elif line2 == (line1+line3):\n",
    "    print(\"no, formation of triangle is not possible\")\n",
    "elif line3 ==(line2 +line1):\n",
    "    print(\"no, formation of triangle is not possible\")\n",
    "elif line1 < (line2 +line3):\n",
    "    print(\"yes, formation of triangle is possible\")\n",
    "elif line2 < (line1 +line3):\n",
    "    print(\"yes, formation of triangle is possible\")\n",
    "elif line3 < (line2 +line1):\n",
    "    print(\"yes, formation of triangle is possible\")\n",
    "\n",
    "else:\n",
    "    print(\"no, formation of triangle is not possible\")"
   ]
  },
  {
   "cell_type": "code",
   "execution_count": null,
   "id": "0e48fa45",
   "metadata": {},
   "outputs": [],
   "source": []
  }
 ],
 "metadata": {
  "kernelspec": {
   "display_name": "Python 3 (ipykernel)",
   "language": "python",
   "name": "python3"
  },
  "language_info": {
   "codemirror_mode": {
    "name": "ipython",
    "version": 3
   },
   "file_extension": ".py",
   "mimetype": "text/x-python",
   "name": "python",
   "nbconvert_exporter": "python",
   "pygments_lexer": "ipython3",
   "version": "3.9.13"
  }
 },
 "nbformat": 4,
 "nbformat_minor": 5
}
